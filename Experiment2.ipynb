{
 "cells": [
  {
   "cell_type": "code",
   "execution_count": 3,
   "metadata": {},
   "outputs": [],
   "source": [
    "import tensorflow as tf\n",
    "import numpy as np\n",
    "import matplotlib.pyplot as plt\n",
    "import PIL\n",
    "from tensorflow.keras import layers\n",
    "import os"
   ]
  },
  {
   "cell_type": "code",
   "execution_count": 4,
   "metadata": {},
   "outputs": [],
   "source": [
    "def generator_model():\n",
    "    model = tf.keras.models.Sequential()\n",
    "    model.add(layers.Dense(8*8*128,input_shape =(100,),use_bias=False))\n",
    "    model.add(layers.BatchNormalization())\n",
    "    model.add(layers.LeakyReLU())\n",
    "\n",
    "    model.add(layers.Reshape((8,8,128)))\n",
    "    assert model.output_shape == (None, 8, 8, 128)\n",
    "\n",
    "    model.add(layers.Conv2DTranspose(64,(5,5),strides =(1,1),padding ='same',use_bias=False))\n",
    "    model.add(layers.BatchNormalization())\n",
    "    model.add(layers.LeakyReLU())\n",
    "    assert model.output_shape == (None, 8, 8, 64)\n",
    "    \n",
    "    model.add(layers.Conv2DTranspose(64,(5,5),strides =(2,2),padding ='same',use_bias=False))\n",
    "    model.add(layers.BatchNormalization())\n",
    "    model.add(layers.LeakyReLU())\n",
    "    assert model.output_shape == (None, 16, 16, 64)\n",
    "\n",
    "    model.add(layers.Conv2DTranspose(64,(5,5),strides=(2,2),padding='same',use_bias=False))     # stride (2,2) doubles the size of the input \n",
    "    assert model.output_shape == (None, 32, 32, 64)\n",
    "    model.add(layers.BatchNormalization())\n",
    "    model.add(layers.LeakyReLU())\n",
    "\n",
    "    \n",
    "    model.add(layers.Conv2DTranspose(3,(5,5),strides=(2,2),padding='same',activation='tanh'))    \n",
    "\n",
    "    return model"
   ]
  },
  {
   "cell_type": "code",
   "execution_count": 12,
   "metadata": {},
   "outputs": [],
   "source": [
    "generator =generator_model()\n",
    "noise = tf.random.normal([1,100])\n",
    "generated_image = generator(noise,training=False)\n",
    "\n"
   ]
  },
  {
   "cell_type": "code",
   "execution_count": 13,
   "metadata": {},
   "outputs": [
    {
     "data": {
      "text/plain": [
       "<matplotlib.image.AxesImage at 0x7ff0f0124ac0>"
      ]
     },
     "execution_count": 13,
     "metadata": {},
     "output_type": "execute_result"
    },
    {
     "data": {
      "image/png": "[encoded data removed]",
      "text/plain": [
       "<Figure size 432x288 with 1 Axes>"
      ]
     },
     "metadata": {
      "needs_background": "light"
     },
     "output_type": "display_data"
    }
   ],
   "source": [
    "plt.imshow(generated_image[0, :, :, 1], cmap='gray')"
   ]
  },
  {
   "cell_type": "code",
   "execution_count": 14,
   "metadata": {},
   "outputs": [],
   "source": [
    "def make_discriminator_model():\n",
    "  model = tf.keras.models.Sequential()\n",
    "  model.add(layers.Conv2D(64,(5,5),strides=(2,2),padding='same',input_shape=[64,64,3]))\n",
    "  model.add(layers.LeakyReLU())\n",
    "  model.add(layers.Dropout(0.3))\n",
    "\n",
    "  model.add(layers.Conv2D(128,(5,5),strides=(2,2),padding='same'))\n",
    "  model.add(layers.LeakyReLU())\n",
    "  model.add(layers.Dropout(0.3))\n",
    "\n",
    "  model.add(layers.Flatten())\n",
    "  model.add(layers.Dense(1))\n",
    "\n",
    "  return model"
   ]
  },
  {
   "cell_type": "code",
   "execution_count": 16,
   "metadata": {},
   "outputs": [
    {
     "name": "stdout",
     "output_type": "stream",
     "text": [
      "tf.Tensor([[0.00049548]], shape=(1, 1), dtype=float32)\n"
     ]
    }
   ],
   "source": [
    "discriminator = make_discriminator_model()\n",
    "decision = discriminator(generated_image)\n",
    "print(decision)"
   ]
  },
  {
   "cell_type": "code",
   "execution_count": 18,
   "metadata": {},
   "outputs": [],
   "source": [
    "cross_entropy = tf.keras.losses.BinaryCrossentropy(from_logits=True)"
   ]
  },
  {
   "cell_type": "code",
   "execution_count": 19,
   "metadata": {},
   "outputs": [],
   "source": [
    "def discriminator_loss(real_output,fake_output):\n",
    "    real_loss = cross_entropy(tf.ones_like(real_output),real_output)\n",
    "    fake_loss = cross_entropy(tf.zeros_like(fake_output),fake_output)\n",
    "    total_loss = real_loss+fake_loss\n",
    "    return total_loss\n",
    "\n",
    "def generator_loss(fake_output):\n",
    "    return cross_entropy(tf.ones_like(fake_output),fake_output)"
   ]
  },
  {
   "cell_type": "code",
   "execution_count": 20,
   "metadata": {},
   "outputs": [],
   "source": [
    "generator_optimizer = tf.keras.optimizers.Adam(1e-4)\n",
    "discriminator_optimizer = tf.keras.optimizers.Adam(1e-4)"
   ]
  },
  {
   "cell_type": "code",
   "execution_count": 58,
   "metadata": {},
   "outputs": [],
   "source": [
    "EPOCHS= 200\n",
    "noise_dims = 100\n",
    "num_egs_to_generate = 16\n",
    "seed = noise\n"
   ]
  },
  {
   "cell_type": "code",
   "execution_count": 57,
   "metadata": {},
   "outputs": [
    {
     "data": {
      "text/plain": [
       "TensorShape([16])"
      ]
     },
     "execution_count": 57,
     "metadata": {},
     "output_type": "execute_result"
    }
   ],
   "source": [
    "seed.shape"
   ]
  },
  {
   "cell_type": "code",
   "execution_count": 24,
   "metadata": {},
   "outputs": [],
   "source": [
    "@tf.function\n",
    "def train_step(images):\n",
    "    noise = tf.random.normal([BATCH_SIZE,noise_dims])\n",
    "\n",
    "    with tf.GradientTape() as gen_tape, tf.GradientTape()  as dis_tape:\n",
    "        generated_image = generator(noise,training= True)\n",
    "\n",
    "        real_output =discriminator(images,training = True)\n",
    "        fake_output =discriminator(generated_image,training= True)\n",
    "\n",
    "        gen_loss = generator_loss(fake_output)\n",
    "        disc_loss = discriminator_loss(real_output,fake_output)\n",
    "    \n",
    "    gen_gradients = gen_tape.gradient(gen_loss,generator.trainable_variables)\n",
    "    dis_gradients = dis_tape.gradient(disc_loss,discriminator.trainable_variables)\n",
    "\n",
    "    generator_optimizer.apply_gradients(zip(gen_gradients,generator.trainable_variables))\n",
    "    discriminator_optimizer.apply_gradients(zip(dis_gradients,discriminator.trainable_variables))\n"
   ]
  },
  {
   "cell_type": "code",
   "execution_count": 25,
   "metadata": {},
   "outputs": [],
   "source": [
    "def generate_and_save_output(model,epoch,test_input):\n",
    "\n",
    "  predictions = model(test_input,training=False)\n",
    "  # predictions = predictions.numpy().reshape(16,64,64,1)\n",
    "  fig = plt.figure(figsize=(4,4))\n",
    "  # print(predictions)\n",
    "  for i in range(predictions.shape[0]):\n",
    "    plt.subplot(4,4,i+1)\n",
    "    plt.imshow((predictions[i]*127.5+127.5).numpy().astype(np.uint8),cmap='gray')\n",
    "    plt.axis('off')\n",
    "  plt.savefig(f'image_at_epoch_{epoch}.png')\n",
    "  plt.show()"
   ]
  },
  {
   "cell_type": "code",
   "execution_count": null,
   "metadata": {},
   "outputs": [],
   "source": []
  },
  {
   "cell_type": "code",
   "execution_count": 42,
   "metadata": {},
   "outputs": [],
   "source": [
    "images = []\n",
    "for i in os.scandir('images'):\n",
    "    images.append(i.path)\n",
    "images = tf.data.Dataset.from_tensor_slices(images)"
   ]
  },
  {
   "cell_type": "code",
   "execution_count": 43,
   "metadata": {},
   "outputs": [],
   "source": [
    "def get_ds(path):\n",
    "  img = tf.io.read_file(path)\n",
    "  img = tf.image.decode_jpeg(img,channels=3)\n",
    "  img = tf.image.convert_image_dtype(img,tf.float32)\n",
    "  img = tf.divide(tf.subtract(tf.multiply(img,255),127.5),127.5)\n",
    "  return tf.image.resize(img,(64,64))"
   ]
  },
  {
   "cell_type": "code",
   "execution_count": 47,
   "metadata": {},
   "outputs": [],
   "source": [
    "BATCH_SIZE = 64\n",
    "train_images = images.map(get_ds,num_parallel_calls=tf.data.experimental.AUTOTUNE).batch(BATCH_SIZE).shuffle(3000)"
   ]
  },
  {
   "cell_type": "code",
   "execution_count": 60,
   "metadata": {},
   "outputs": [],
   "source": [
    "from IPython import display\n",
    "import time\n",
    "def train(dataset,epochs):\n",
    "  for epoch in range(epochs):\n",
    "    start = time.time()\n",
    "    for batch in dataset:\n",
    "      train_step(batch)\n",
    "    display.clear_output(wait=True)\n",
    "    generate_and_save_output(generator,epoch+1,seed)\n",
    "\n",
    "    if (epoch+1)%15 == 0:\n",
    "      checkpoint.save(file_prefix=checkpoint_prefix)\n",
    "\n",
    "    print(f'Time for epoch {epoch + 1} is {time.time()-start}')\n",
    "  \n",
    "  display.clear_output(wait=True)\n",
    "  generate_and_save_output(generator,epochs,seed)\n",
    "train(train_images,EPOCHS)"
   ]
  },
  {
   "cell_type": "code",
   "execution_count": null,
   "metadata": {},
   "outputs": [],
   "source": []
  }
 ],
 "metadata": {
  "interpreter": {
   "hash": "c8f91cfef187fc2d6937ef82f999ffc29101d3e9ad9639dbdd96b413d226fd7d"
  },
  "kernelspec": {
   "display_name": "Python 3.8.12 64-bit ('tf4': conda)",
   "language": "python",
   "name": "python3"
  },
  "language_info": {
   "codemirror_mode": {
    "name": "ipython",
    "version": 3
   },
   "file_extension": ".py",
   "mimetype": "text/x-python",
   "name": "python",
   "nbconvert_exporter": "python",
   "pygments_lexer": "ipython3",
   "version": "3.8.12"
  },
  "orig_nbformat": 4
 },
 "nbformat": 4,
 "nbformat_minor": 2
}
